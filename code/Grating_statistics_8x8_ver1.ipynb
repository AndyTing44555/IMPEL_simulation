{
 "cells": [
  {
   "cell_type": "markdown",
   "id": "637a4676",
   "metadata": {},
   "source": [
    "### Simulation: Statistics for N speckle patterns"
   ]
  },
  {
   "cell_type": "code",
   "execution_count": 29,
   "id": "34f79e7e",
   "metadata": {},
   "outputs": [],
   "source": [
    "from matplotlib import pyplot as plt\n",
    "import matplotlib as mpl\n",
    "# matplotlib.rcParams.update(matplotlib.rcParamsDefault)\n",
    "import numpy as np\n",
    "np.seterr(divide='ignore', invalid='ignore')\n",
    "import math\n",
    "import sys\n",
    "import time\n",
    "import os\n",
    "import h5py\n",
    "import sympy\n",
    "import pandas as pd\n",
    "from datetime import date\n",
    "from tqdm import tqdm\n",
    "from scipy.optimize import curve_fit"
   ]
  },
  {
   "cell_type": "code",
   "execution_count": 30,
   "id": "adbb3a7a",
   "metadata": {},
   "outputs": [],
   "source": [
    "## the defalt path is \".../code\". Need to go to upper directory for parent_dir\n",
    "os.path.abspath('')\n",
    "code_dir = \"%s/\"%os.getcwd()\n",
    "parent_dir = code_dir.replace('code/','')\n",
    "function_dir = parent_dir + 'functions/'\n",
    "data_dir = parent_dir + 'data/'\n",
    "fig_dir = parent_dir + 'figures/'\n",
    "sys.path.insert(0,parent_dir)"
   ]
  },
  {
   "cell_type": "code",
   "execution_count": 31,
   "id": "ca2dd695",
   "metadata": {},
   "outputs": [],
   "source": [
    "## import coustom functions\n",
    "import functions.f_complex_phasor_hsl_v1 as chsl\n",
    "import functions.fbasis_functions_all_v4 as funs_v4\n",
    "import functions.fbasis_functions_simulation_only_v1 as funs_sim"
   ]
  },
  {
   "cell_type": "code",
   "execution_count": 32,
   "id": "25275ee3",
   "metadata": {},
   "outputs": [],
   "source": [
    "## functions\n",
    "def imag_linear2log_v1(c1,c2,input):\n",
    "    Ny,Nx = np.shape(input)\n",
    "    input_mag = np.abs(input)\n",
    "    in_max = np.max(input_mag)\n",
    "    out_log = c1*np.log(1+c2*input)/np.log(1+c2*in_max)\n",
    "    out_log_imag = np.zeros([Ny,Nx])\n",
    "    out_log_imag[:,:] =out_log\n",
    "    return out_log_imag \n",
    "\n",
    "def fitting_Emag_v1(x, a, b, c):\n",
    "    return a * x**b + c"
   ]
  },
  {
   "cell_type": "code",
   "execution_count": 33,
   "id": "bbcf8074",
   "metadata": {},
   "outputs": [],
   "source": [
    "## save randomized phase\n",
    "# savepkl = False\n",
    "# # Nrun = int(2**1)\n",
    "# Nrun = int(2**7)\n",
    "\n",
    "# rand_pkl_dir = data_dir + f\"speckle_phase/{Nx}x{Ny}/\"\n",
    "# if savepkl:\n",
    "#     if not os.path.exists(rand_pkl_dir):\n",
    "#         os.makedirs(rand_pkl_dir)\n",
    "# for irun in tqdm(range(2,Nrun)):\n",
    "#     gamma_r = np.exp(-1j*2*np.pi*np.random.uniform(low=0.0, high=1.0, size=(Ny,Nx)))\n",
    "#     pd.DataFrame(gamma_r).to_pickle(rand_pkl_dir + f\"speckle_phase_run{irun}.pickle\")"
   ]
  },
  {
   "cell_type": "code",
   "execution_count": 34,
   "id": "324b4a1c",
   "metadata": {},
   "outputs": [],
   "source": [
    "## load randomized phase\n",
    "# rand_pkl_dir = data_dir + f\"speckle_phase/{Nx}x{Ny}/\"\n",
    "\n",
    "# irun = 0\n",
    "# gamma_r = np.array(pd.read_pickle(rand_pkl_dir+f\"speckle_phase_run{irun}.pickle\"))\n",
    "\n",
    "# Nrun = 127\n",
    "Nrun = 32"
   ]
  },
  {
   "cell_type": "code",
   "execution_count": 35,
   "id": "7c0f832d",
   "metadata": {},
   "outputs": [],
   "source": [
    "## amplitude distribution\n",
    "# mgx = 0.5\n",
    "# mgy = 0.5\n",
    "Nx = 512\n",
    "Ny = 512\n",
    "Nrx = int(2**10)\n",
    "Nry = int(2**10)\n",
    "Npadx = int((Nrx-Nx)/2)\n",
    "Npady = int((Nry-Ny)/2)\n",
    "\n",
    "## coordinate\n",
    "x_au = np.arange(-Nx/2,Nx/2)\n",
    "y_au = np.arange(-Ny/2,Ny/2)\n",
    "X_au,Y_au = np.meshgrid(x_au,y_au)\n",
    "x_au_pad = np.arange(-Nrx/2,Nrx/2)\n",
    "y_au_pad = np.arange(-Nry/2,Nry/2)\n",
    "X_au_pad,Y_au_pad = np.meshgrid(x_au_pad,y_au_pad)\n",
    "\n",
    "mgx = .5\n",
    "mgy = .5\n",
    "wx = mgx*Nx\n",
    "wy = mgy*Ny\n",
    "x_au = np.linspace(-Nx/2,Nx/2,Nx)\n",
    "y_au = np.linspace(-Ny/2,Ny/2,Ny)\n",
    "X_au,Y_au = np.meshgrid(x_au,y_au)\n",
    "gaus = np.exp(-X_au**2/wx**2 - Y_au**2/wy**2)"
   ]
  },
  {
   "cell_type": "code",
   "execution_count": 36,
   "id": "ca5e0c7d",
   "metadata": {},
   "outputs": [],
   "source": [
    "ShortFFT = True\n",
    "p_seg = 1\n",
    "Bandwidth = 10e6\n",
    "StartFreq = 70e6\n",
    "Min_grid = 1e2\n",
    "\n",
    "if Bandwidth ==10E6:\n",
    "    bw_str = \"10MHz/\"\n",
    "elif Bandwidth == 20E6:\n",
    "    bw_str = \"20MHz/\"\n",
    "else:\n",
    "    input(\"Bandwidth is not set to 10 or 20 MHz\")"
   ]
  },
  {
   "cell_type": "code",
   "execution_count": 37,
   "id": "4384a2d2",
   "metadata": {},
   "outputs": [],
   "source": [
    "## Miscllaneous\n",
    "ShortFFT = True\n",
    "p_seg = 1\n",
    "Bandwidth = 10e6\n",
    "StartFreq = 70e6\n",
    "Min_grid = 1e2\n",
    "Phase_tone_case = 2\n",
    "SampleFreq = 100e6\n",
    "va = 600\n",
    "Dfringes = 1/4.5e-3\n",
    "Mag = Bandwidth/va/Dfringes\n",
    "Factor_NySampling = 2\n",
    "lbda = .5e-6\n",
    "Dist = 1e2\n",
    "Rx_Diameter = 25e-3"
   ]
  },
  {
   "cell_type": "code",
   "execution_count": 38,
   "id": "2439109d",
   "metadata": {},
   "outputs": [],
   "source": [
    "#Dimension setting: dimension choices: 2, 4, 5, 6, 8, 12, 16, 24, 32, 48\n",
    "dimension_case = 1\n",
    "if dimension_case == 1:\n",
    "    dimension_all = np.array([8]).astype('int')\n",
    "elif dimension_case == 2:\n",
    "    dimension_all = np.array([24]).astype('int')"
   ]
  },
  {
   "cell_type": "code",
   "execution_count": 39,
   "id": "35fc19ff",
   "metadata": {},
   "outputs": [],
   "source": [
    "Phase_tone_case = 2"
   ]
  },
  {
   "cell_type": "code",
   "execution_count": 40,
   "id": "09fe2c12",
   "metadata": {},
   "outputs": [],
   "source": [
    "## visibility setting\n",
    "# Nmv = 5\n",
    "Nmv = 1\n",
    "mv_all = np.linspace(1/Nmv,1,Nmv)  ## mv<=1"
   ]
  },
  {
   "cell_type": "code",
   "execution_count": 41,
   "id": "a4ead413",
   "metadata": {},
   "outputs": [],
   "source": [
    "m_k = 0.1     ## scaled factor of the angle/k-vector\n",
    "# Kg_mag_all = m_k*np.array([2.0,1.018,0.473,0.255]) ## For 10x10 beam array\n",
    "Kg_mag_all = m_k*np.array([1.882,1.0,0.471,0.235]) ## For 8x8 beam array\n",
    "\n",
    "Nobj = len(Kg_mag_all)\n",
    "Kgx_au_all = np.copy(Kg_mag_all)\n",
    "Kgy_au_all = np.zeros(Nobj)\n",
    "\n",
    "## k-vectors that resonates with the object\n",
    "idx_kx1_all = [0,4,1,0]\n",
    "idx_kx2_all = [6,6,3,2]"
   ]
  },
  {
   "cell_type": "code",
   "execution_count": 42,
   "id": "c1aa0344",
   "metadata": {},
   "outputs": [],
   "source": [
    "## Receiver aperture\n",
    "# D_cir = 200\n",
    "# W_cir = np.zeros([Ny,Nx])\n",
    "# W_cir[X_au**2+Y_au**2<(D_cir/2)**2] = 1\n",
    "\n",
    "# angles = np.linspace(0,np.pi*4,400)\n",
    "# x_rx = np.sin(angles)*D_cir/2+Nx/2\n",
    "# y_rx = np.cos(angles)*D_cir/2+Ny/2\n",
    "\n",
    "# D_cir_all = 2**np.arange(3,8+1).astype('int')\n",
    "\n",
    "## temporary: the data is still running\n",
    "D_cir_all = 2**np.arange(3,8+1).astype('int')\n",
    "D_cir_iter = np.outer(np.transpose([D_cir_all]),np.ones(Nrun)).reshape(-1)"
   ]
  },
  {
   "cell_type": "code",
   "execution_count": 43,
   "id": "de919423",
   "metadata": {},
   "outputs": [],
   "source": [
    "for dimension_ind,dimension in enumerate(dimension_all):\n",
    "    # for k_mag_ind in range(len(Kg_mag_all)):\n",
    "\n",
    "    ## define data\n",
    "    Fcoeff_spkl_stack = np.zeros((len(Kg_mag_all),len(D_cir_all),Nrun),dtype='complex64')\n",
    "    Fcoeff_unspkl_stack = np.zeros((len(Kg_mag_all),len(D_cir_all),Nrun),dtype='complex64')\n",
    "\n",
    "    for k_mag_ind in range(1):\n",
    "    # for k_mag_ind in range(len(Kg_mag_all)):\n",
    "        k_mag = Kg_mag_all[k_mag_ind]\n",
    "        kx_au = Kgx_au_all[k_mag_ind]\n",
    "        ky_au = Kgy_au_all[k_mag_ind]\n",
    "        \n",
    "        for mv_ind in range(len(mv_all)):\n",
    "            mv = mv_all[mv_ind]\n",
    "\n",
    "            Robj1 = 1 + mv*np.cos(2*np.pi*(kx_au*X_au+ky_au*Y_au)+np.pi/2)*gaus\n",
    "            Robj1_pad = np.pad(Robj1,(Npadx,Npady))\n",
    "            FT_Robj1 = np.fft.fftshift(np.fft.fft2(np.fft.ifftshift(Robj1_pad)))\n",
    "\n",
    "            for D_cir_ind in range(len(D_cir_all)):\n",
    "                D_cir = D_cir_all[D_cir_ind]\n",
    "                W_cir = np.zeros([Nry,Nrx])\n",
    "                W_cir[X_au_pad**2+Y_au_pad**2<(D_cir/2)**2] = 1\n",
    "\n",
    "                angles = np.linspace(0,np.pi*4,400)\n",
    "                x_rx = np.sin(angles)*D_cir/2+Nx/2\n",
    "                y_rx = np.cos(angles)*D_cir/2+Ny/2\n",
    "\n",
    "                if Phase_tone_case ==1:\n",
    "                    ##Case1: Zero phases\n",
    "                    Phase_signal = np.zeros((dimension,1))\n",
    "                    Phase_signal_x = Phase_signal\n",
    "                    Phase_signal_y = Phase_signal\n",
    "                    Phase_name = \"ZeroPhases\"\n",
    "                elif Phase_tone_case==2:\n",
    "                    ##Case2: Random phases\n",
    "                    Name_Rx = f\"{data_dir+'Phase_offset/'}Rand_phase_x_{dimension:.0f}Signals.mat\"\n",
    "                    Name_Rx_hfile = h5py.File(Name_Rx, 'r')\n",
    "                    Phase_signal_x_h5 = Name_Rx_hfile.get(\"Phase_signal_x\")\n",
    "                    Phase_signal_x = np.array(Phase_signal_x_h5)\n",
    "                    Name_Ry = f\"{data_dir+'Phase_offset/'}Rand_phase_y_{dimension:.0f}Signals.mat\"    \n",
    "                    Name_Ry_hfile = h5py.File(Name_Ry, 'r')\n",
    "                    Phase_signal_y_h5 = Name_Ry_hfile.get(\"Phase_signal_y\")\n",
    "                    Phase_signal_y = np.array(Phase_signal_y_h5)\n",
    "                    Phase_name = \"RandomPhases\"    \n",
    "                elif Phase_tone_case==3:    \n",
    "                    ## Case3: Quantized phases over 2*pi [rad]\n",
    "                    Phase_signal = np.linspace(0, 2*math.pi - 2*math.pi/dimension, dimension)\n",
    "                    Phase_signal_x = Phase_signal\n",
    "                    Phase_signal_y = Phase_signal\n",
    "                    Phase_name = \"QuantizedPhases\"  \n",
    "\n",
    "                ##Part 1: 1D NRA dataset (dimension 2, 4, 5, 6, 8, 12, 16, 24, 32, 48)\n",
    "                nra_1d = funs_v4.fbasis_nra_1d_gen_v1(dimension)\n",
    "\n",
    "                ##Part 2: 2D NRA generator RF beatnotes\n",
    "                LR1Ds,gridsize, p_list, p_ix, prime_num, prime_denom, yxratio = funs_v4.fbasis_2dNRA_gen_v1(dimension, nra_1d)\n",
    "\n",
    "                ##Part 3: Set Y/X scale factor to ratio of two primes nearest to twice the RF grid size\n",
    "                nra_x,nra_y,LR2Ds,LR2Ds_beat,LR2Ds_beat_reshaped,LR2Ds_beat_sorted,Ind_sort = funs_v4.fbasis_2dNRA_LR2Ds_beat_v1(nra_1d,yxratio)\n",
    "\n",
    "                ##Part 4: 2D frequency array setting\n",
    "                Factor_mod,SignalFreq_array_x,SignalFreq_array_y,BeatFreq_1d,BeatFreq_array,IA,IC,LR2Ds_beat_1d,LR2Ds_beat_1d_unique = funs_v4.fbasis_2d_beatnote_v1(Bandwidth,StartFreq,nra_x,nra_y,LR2Ds_beat)\n",
    "\n",
    "                ##Part 5: Offset Phase Array for 2D NRA\n",
    "                Phase_2Ds,Phase_1Ds_beat,Phase_1Ds_beat_sorted,diff_beat_min,N_period = funs_v4.fbasis_phase_beat_v1(nra_1d,nra_x,nra_y,Phase_signal_x,Phase_signal_y,Ind_sort,IA,SampleFreq,BeatFreq_array)\n",
    "\n",
    "                ##Part 6: Spatial fringes and 2D grids\n",
    "                _,_,Ngrid_x,Ngrid_y,delta_x,delta_y,_,_ = funs_v4.fbasis_set2dgrid_dim_v1(BeatFreq_array,SignalFreq_array_x,SignalFreq_array_y,Factor_NySampling,va)\n",
    "\n",
    "                ##Part 7: Set the 2D spatial grids pass zero x and y, with even number of grids for convenience.\n",
    "                _,_,_,_,_,_,_,_,_,_,_,_,Nx_AO,Ny_AO = funs_v4.fbasis_2dgrid_gen_v1(Ngrid_x,Ngrid_y,delta_x,delta_y,Mag,lbda,Dist)\n",
    "\n",
    "                ## 2D plane waves for M = N x N beams\n",
    "                nra_x_norm = 2*(nra_x - nra_x[-1]/2)/nra_x[-1]\n",
    "                nra_y_norm = 2*(nra_y - nra_y[-1]/2)/nra_y[-1]*yxratio\n",
    "\n",
    "                Ics_stacks = np.zeros((Ny_AO,Nx_AO,Nrun),dtype='complex64')\n",
    "                FT_Ics_stacks = np.zeros((Ny_AO,Nx_AO,Nrun),dtype='complex64')\n",
    "\n",
    "                ## Directory for saving images\n",
    "                Ics_dir = data_dir + f\"Recon_grat_imag_v2/Ics/{dimension:.0f}x{dimension:.0f}/k1_{nra_x[idx_kx1_all[k_mag_ind]]}_k2_{nra_x[idx_kx2_all[k_mag_ind]]}/mv_{mv}/D_cir{D_cir}pixels/\"\n",
    "                Ica_dir = data_dir + f\"Recon_grat_imag_v2/Ica/{dimension:.0f}x{dimension:.0f}/k1_{nra_x[idx_kx1_all[k_mag_ind]]}_k2_{nra_x[idx_kx2_all[k_mag_ind]]}/mv_{mv}/D_cir{D_cir}pixels/\"\n",
    "\n",
    "                ## Extract the index of the Fourier coefficient that matches Kg\n",
    "                idx_kx1 = idx_kx1_all[k_mag_ind]\n",
    "                idx_kx2 = idx_kx2_all[k_mag_ind]\n",
    "                uvx = nra_x_norm[idx_kx2] - nra_x_norm[idx_kx1]\n",
    "                uvy = 0\n",
    "                indx = np.round((uvx+2*nra_x_norm[-1])/np.min(np.diff(nra_x_norm))).astype('int')\n",
    "                indy = np.round((uvy+2*nra_y_norm[-1])/np.min(np.diff(nra_y_norm))).astype('int')\n",
    "\n",
    "                for irun in range(Nrun):\n",
    "                    ## load randomized phase\n",
    "                    # rand_pkl_dir = data_dir + f\"speckle_phase/{Nx}x{Ny}/\"\n",
    "                    # gamma_r = np.array(pd.read_pickle(rand_pkl_dir+f\"speckle_phase_run{irun}.pickle\"))\n",
    "\n",
    "                    ## load images\n",
    "                    Ics = np.array(pd.read_pickle(Ics_dir + f\"Ics_k1_{nra_x[idx_kx1_all[k_mag_ind]]}_k2_{nra_x[idx_kx2_all[k_mag_ind]]}_mv{mv}_D_cir{D_cir}pixels_run{irun}.pickle\"))\n",
    "                    Ica = np.array(pd.read_pickle(Ica_dir + f\"Ica_k1_{nra_x[idx_kx1_all[k_mag_ind]]}_k2_{nra_x[idx_kx2_all[k_mag_ind]]}_mv{mv}_D_cir{D_cir}pixels_run{irun}.pickle\"))\n",
    "                    I_complex = np.fft.fftshift(np.fft.fft2(np.fft.ifftshift(Ics)))\n",
    "                    I_complex_ag = np.fft.fftshift(np.fft.fft2(np.fft.ifftshift(Ica)))\n",
    "\n",
    "                    ## Store the Fourier coefficients\n",
    "                    Fcoeff_spkl = I_complex[indy+1,indx+1]\n",
    "                    Fcoeff_unspkl = I_complex_ag[indy+1,indx+1]\n",
    "                    Fcoeff_spkl_stack[k_mag_ind,D_cir_ind,irun] = Fcoeff_spkl\n",
    "                    Fcoeff_unspkl_stack[k_mag_ind,D_cir_ind,irun] = Fcoeff_unspkl\n",
    "\n",
    "                    ## save uv-plane\n",
    "                    # FT_Ics_dir = data_dir + f\"Recon_image/FT_Ics/{dimension:.0f}x{dimension:.0f}/D_cir{D_cir}pixels/\"\n",
    "                    # if not os.path.exists(FT_Ics_dir):\n",
    "                    #     os.makedirs(FT_Ics_dir)\n",
    "                    # saveuvpkl = False\n",
    "                    # if saveuvpkl:\n",
    "                    #     FT_Ics = np.fft.fftshift(np.fft.fft2(np.fft.ifftshift(Ics)))\n",
    "                    #     pd.DataFrame(FT_Ics).to_pickle(FT_Ics_dir + f\"FT_Ics_{Nx_AO}x{Nx_AO}pixels_run{irun}.pickle\")\n",
    "                    # else:\n",
    "                    #     FT_Ics = np.array(pd.read_pickle(FT_Ics_dir + f\"FT_Ics_{Nx_AO}x{Nx_AO}pixels_run{irun}.pickle\"))\n",
    "\n",
    "                    # Ics_stacks[:,:,irun] = Ics\n",
    "                    # FT_Ics_stacks[:,:,irun] = FT_Ics\n",
    "\n",
    "        ## statistics\n",
    "        F_imag_D_cir_iter= -np.imag(Fcoeff_spkl_stack[k_mag_ind,:,:]).reshape(-1)\n",
    "        params, covariance = curve_fit(fitting_Emag_v1,D_cir_iter,F_imag_D_cir_iter,p0=[1.2E5,2,0])\n",
    "        # Extract fitted parameters\n",
    "        a_fit, b_fit, c_fit = params\n",
    "        # Generate the fitted curve\n",
    "        y_fit = fitting_Emag_v1(D_cir_iter, a_fit, b_fit, c_fit)"
   ]
  },
  {
   "cell_type": "code",
   "execution_count": 44,
   "id": "76f4a14a",
   "metadata": {},
   "outputs": [],
   "source": [
    "# fig,ax = plt.subplots(1,2,figsize=(6,2))\n",
    "# ax[0].plot(F_imag_D_cir_iter)\n",
    "# ax[1].plot(D_cir_iter)"
   ]
  },
  {
   "cell_type": "code",
   "execution_count": null,
   "id": "d83db65b",
   "metadata": {},
   "outputs": [
    {
     "data": {
      "image/png": "[encoded data removed]",
      "text/plain": [
       "<Figure size 800x300 with 2 Axes>"
      ]
     },
     "metadata": {},
     "output_type": "display_data"
    }
   ],
   "source": [
    "dtt = np.pi/4\n",
    "D_span = 300\n",
    "F_span = np.max(-np.imag(Fcoeff_spkl_stack[0,:,:]))\n",
    "\n",
    "fig,ax = plt.subplots(1,2,figsize=(8,3))\n",
    "fig.suptitle(f\"Statistics of Fourier Coefficient with {Nrun} Iterations, $m_{{\\\\vec{{K}}_{{g}}}}$={mv}, Object \"+\"$\\\\vec{K}_g$ = \"+f\"$2\\\\pi{{\\\\times}}${k_mag:.4f}\",fontsize=10)\n",
    "for irun in range(Nrun):\n",
    "    if irun==0:\n",
    "        ax[0].scatter(D_cir_all,-np.imag(Fcoeff_unspkl_stack[0,:,irun]),color='C0',linewidths=0,s=1,marker='^',label='Unspeckled')\n",
    "        ax[0].scatter(D_cir_all,-np.imag(Fcoeff_spkl_stack[0,:,irun]),color='C1',linewidths=0,s=1,marker='*',label='Speckled')\n",
    "        ax[1].scatter(D_cir_all,np.angle(np.conjugate(Fcoeff_unspkl_stack[0,:,irun])),color='C0',linewidths=0,s=1,marker='^',label='Unspeckled')\n",
    "        ax[1].scatter(D_cir_all,np.angle(np.conjugate(Fcoeff_spkl_stack[0,:,irun])),color='C1',linewidths=0,s=1,marker='*',label='Speckled')\n",
    "    else:\n",
    "        ax[0].scatter(D_cir_all,-np.imag(Fcoeff_unspkl_stack[0,:,irun]),color='C0',linewidths=0,s=1,marker='^')\n",
    "        ax[0].scatter(D_cir_all,-np.imag(Fcoeff_spkl_stack[0,:,irun]),color='C1',linewidths=0,s=1,marker='*')\n",
    "        ax[1].scatter(D_cir_all,np.angle(np.conjugate(Fcoeff_unspkl_stack[0,:,irun])),color='C0',linewidths=0,s=1,marker='^')\n",
    "        ax[1].scatter(D_cir_all,np.angle(np.conjugate(Fcoeff_spkl_stack[0,:,irun])),color='C1',linewidths=0,s=1,marker='*')\n",
    "\n",
    "ax[0].plot(np.arange(0,D_span,1), fitting_Emag_v1(np.arange(0,D_span,1), *params),linewidth=.4,color='C1',label='Fitting (Speckled)',alpha=0.7,linestyle='--')\n",
    "ax[0].set_xlim(0,D_span)\n",
    "ax[0].set_xlabel(\"Diameter of receiver, D [pixels]\")\n",
    "ax[0].set_ylabel(\"$Im\\{F_{\\\\vec{K}_g}\\}$\")\n",
    "ax[0].text(20,1.25*F_span,\"$Im\\{F_{\\\\vec{K}_g}\\}_{fit}=$\"+f\"{a_fit:.1e}$\\cdot$D$^{{{b_fit:.2f}}}$+{c_fit:.1e}\",fontsize=10)\n",
    "ax[0].text(-60,1.3*F_span,\"(a)\",fontsize=12)\n",
    "lg0 = ax[0].legend(fontsize=8,frameon=False,markerscale=6)\n",
    "ax[1].plot([0,D_span],[np.pi/2,np.pi/2],'--',color='C2',linewidth=.4,label='Expected phase')\n",
    "ax[1].set_xlim(0,D_span)\n",
    "ax[1].set_xlabel(\"Diameter of receiver, D [pixels]\")\n",
    "ax[1].set_ylabel(\"$\\\\angle F_{\\\\vec{K}_g}$ [rad]\")\n",
    "ax[1].set_yticks([np.pi/2-dtt,np.pi/2,np.pi/2+dtt],[r\"$\\frac{\\pi}{4}$\",r\"$\\frac{\\pi}{2}$\",r\"$\\frac{3\\pi}{4}$\"])\n",
    "ax[1].set_ylim(np.pi/2-dtt,np.pi/2+dtt)\n",
    "ax[1].text(-50,0.72*np.pi,\"(b)\",fontsize=12)\n",
    "lg1 = ax[1].legend(loc='upper right',fontsize=8,frameon=False,markerscale=6)\n",
    "\n",
    "\n",
    "stat_Fcoeff_dir = fig_dir + f\"Stat_Fcoeff/{dimension}x{dimension}/k1_{nra_x[idx_kx1_all[k_mag_ind]]}_k2_{nra_x[idx_kx2_all[k_mag_ind]]}/mv{mv}/{Nrun}runs/\"\n",
    "if not os.path.exists(stat_Fcoeff_dir):\n",
    "    os.makedirs(stat_Fcoeff_dir)\n",
    "\n",
    "shouldsave = False\n",
    "if shouldsave:\n",
    "    plt.savefig(stat_Fcoeff_dir + f\"Stat_Foeff_amp_phase_{dimension}x{dimension}_{nra_x[idx_kx1_all[k_mag_ind]]}_k2_{nra_x[idx_kx2_all[k_mag_ind]]}_{Nrun}runs.pdf\", dpi=2000, bbox_inches='tight',transparent=True)\n",
    "    plt.close()\n",
    "else:\n",
    "    plt.show()\n",
    "\n",
    "# plt.savefig(fig_dir + f\"temp/stat_E_mag_phase_Dcir_v1.pdf\", dpi=1000, bbox_inches='tight',transparent=True)"
   ]
  },
  {
   "cell_type": "code",
   "execution_count": 46,
   "id": "a0ec1fa7",
   "metadata": {},
   "outputs": [],
   "source": [
    "I_complex = np.fft.fftshift(np.fft.fft2(np.fft.ifftshift(Ics)))\n",
    "I_complex_ag = np.fft.fftshift(np.fft.fft2(np.fft.ifftshift(Ica)))\n",
    "\n",
    "c1 = 1\n",
    "c2 = 0.000000001\n",
    "c2ag = 0.0000000000000001\n",
    "s0 = 1\n",
    "l0 = 1\n",
    "I_complex_ag_log = imag_linear2log_v1(c1,c2ag,np.abs(I_complex_ag))\n",
    "I_complex_log = imag_linear2log_v1(c1,c2,np.abs(I_complex))\n",
    "I_complex_ag_hsl = chsl.hsl_complex_v1(s0,l0,I_complex_ag_log*np.exp(1j*np.angle(I_complex_ag)))\n",
    "I_complex_hsl = chsl.hsl_complex_v1(s0,l0,I_complex_log*np.exp(1j*np.angle(I_complex)))"
   ]
  },
  {
   "cell_type": "code",
   "execution_count": 47,
   "id": "5ce94fe2",
   "metadata": {},
   "outputs": [
    {
     "name": "stdout",
     "output_type": "stream",
     "text": [
      "(indx,indy)=(66,34)\n",
      "-8800258000.0\n"
     ]
    }
   ],
   "source": [
    "print(f\"(indx,indy)=({indx},{indy})\")\n",
    "print(np.imag(I_complex[indy+1,indx+1]))"
   ]
  },
  {
   "cell_type": "code",
   "execution_count": 48,
   "id": "e04e6091",
   "metadata": {},
   "outputs": [
    {
     "data": {
      "text/plain": [
       "<matplotlib.image.AxesImage at 0x14704b550>"
      ]
     },
     "execution_count": 48,
     "metadata": {},
     "output_type": "execute_result"
    },
    {
     "data": {
      "image/png": "[encoded data removed]",
      "text/plain": [
       "<Figure size 640x480 with 1 Axes>"
      ]
     },
     "metadata": {},
     "output_type": "display_data"
    }
   ],
   "source": [
    "plt.plot([indx+1,indx+1],[0,Ny_AO],'w')\n",
    "plt.plot([0,Nx_AO],[indy+1,indy+1],'w')\n",
    "plt.imshow((I_complex_hsl))"
   ]
  },
  {
   "cell_type": "code",
   "execution_count": null,
   "id": "422e8a52",
   "metadata": {},
   "outputs": [],
   "source": []
  }
 ],
 "metadata": {
  "kernelspec": {
   "display_name": ".venv",
   "language": "python",
   "name": "python3"
  },
  "language_info": {
   "codemirror_mode": {
    "name": "ipython",
    "version": 3
   },
   "file_extension": ".py",
   "mimetype": "text/x-python",
   "name": "python",
   "nbconvert_exporter": "python",
   "pygments_lexer": "ipython3",
   "version": "3.11.6"
  }
 },
 "nbformat": 4,
 "nbformat_minor": 5
}
